{
  "nbformat": 4,
  "nbformat_minor": 0,
  "metadata": {
    "colab": {
      "provenance": [],
      "authorship_tag": "ABX9TyPTd0/z98gfb00hUXxXj+QS",
      "include_colab_link": true
    },
    "kernelspec": {
      "name": "python3",
      "display_name": "Python 3"
    },
    "language_info": {
      "name": "python"
    }
  },
  "cells": [
    {
      "cell_type": "markdown",
      "metadata": {
        "id": "view-in-github",
        "colab_type": "text"
      },
      "source": [
        "<a href=\"https://colab.research.google.com/github/TunanshV/DL/blob/main/00_tensorflow_fundamentals_exercise_solutions.ipynb\" target=\"_parent\"><img src=\"https://colab.research.google.com/assets/colab-badge.svg\" alt=\"Open In Colab\"/></a>"
      ]
    },
    {
      "cell_type": "code",
      "execution_count": 1,
      "metadata": {
        "id": "M40jUBp8317r"
      },
      "outputs": [],
      "source": [
        "import tensorflow as tf"
      ]
    },
    {
      "cell_type": "code",
      "source": [
        "#a vector is a rank-1 tensor and it is like a list of numbers.It has one axis\n",
        "vector= tf.constant([1,2,3,4])\n",
        "vector.ndim\n"
      ],
      "metadata": {
        "colab": {
          "base_uri": "https://localhost:8080/"
        },
        "id": "MK99J41Y38TK",
        "outputId": "776d3de6-de58-479c-9f04-da33259b3a2b"
      },
      "execution_count": 7,
      "outputs": [
        {
          "output_type": "execute_result",
          "data": {
            "text/plain": [
              "<tf.Tensor: shape=(), dtype=int32, numpy=4>"
            ]
          },
          "metadata": {},
          "execution_count": 7
        }
      ]
    },
    {
      "cell_type": "code",
      "source": [
        "#a scalar is a rank-0 tensor and it contains a single value and no axes\n",
        "scaler= tf.constant(4)\n",
        "scaler.shape\n",
        "tf.rank(scaler)\n",
        "tf.size(scaler)\n"
      ],
      "metadata": {
        "colab": {
          "base_uri": "https://localhost:8080/"
        },
        "id": "zYQLAIL64uT4",
        "outputId": "a75a93f2-50ec-4652-9519-f2e62033b9c3"
      },
      "execution_count": 28,
      "outputs": [
        {
          "output_type": "execute_result",
          "data": {
            "text/plain": [
              "<tf.Tensor: shape=(), dtype=int32, numpy=1>"
            ]
          },
          "metadata": {},
          "execution_count": 28
        }
      ]
    },
    {
      "cell_type": "code",
      "source": [
        "# a matrix or rank-2 tensor has two axes.We can set the dtype using aliases.\n",
        "matrix= tf.constant([[1,2,3],\n",
        "                     [4,5,6],\n",
        "                     [7,8,9]],dtype=tf.float16)\n",
        "matrix.shape\n",
        "tf.size(matrix)\n",
        "tf.rank(matrix)"
      ],
      "metadata": {
        "colab": {
          "base_uri": "https://localhost:8080/"
        },
        "id": "aEn_1b5j5auL",
        "outputId": "005deb2a-d80f-48a5-bcb1-5567c4f27861"
      },
      "execution_count": 29,
      "outputs": [
        {
          "output_type": "execute_result",
          "data": {
            "text/plain": [
              "<tf.Tensor: shape=(), dtype=int32, numpy=2>"
            ]
          },
          "metadata": {},
          "execution_count": 29
        }
      ]
    },
    {
      "cell_type": "code",
      "source": [
        "#creating a tensor\n",
        "tensor= tf.constant([[[1,2,3],\n",
        "                      [4,5,6]],\n",
        "                     [[10,11,12],\n",
        "                      [13,14,15]]])\n",
        "tensor.shape\n",
        "tf.rank(tensor)\n",
        "tf.size(tensor).numpy()\n"
      ],
      "metadata": {
        "colab": {
          "base_uri": "https://localhost:8080/"
        },
        "id": "oU5i_Z-E58OS",
        "outputId": "17485f2c-75e7-4b55-a0d6-f2c65107d976"
      },
      "execution_count": 35,
      "outputs": [
        {
          "output_type": "execute_result",
          "data": {
            "text/plain": [
              "12"
            ]
          },
          "metadata": {},
          "execution_count": 35
        }
      ]
    },
    {
      "cell_type": "code",
      "source": [
        "#creating two tensors containing random values between 0 and 1 with shape[5,300]\n",
        "tensor_5= tf.random.uniform(minval=0,maxval=1,shape=(5,300))\n",
        "tensor_6= tf.random.uniform(minval=0,maxval=1,shape=(5,300))\n",
        "tensor_5,tensor_6"
      ],
      "metadata": {
        "colab": {
          "base_uri": "https://localhost:8080/"
        },
        "id": "K1GkhBiT8m82",
        "outputId": "d330adf0-b1eb-48a9-8b93-94f9c765d49a"
      },
      "execution_count": 39,
      "outputs": [
        {
          "output_type": "execute_result",
          "data": {
            "text/plain": [
              "(<tf.Tensor: shape=(5, 300), dtype=float32, numpy=\n",
              " array([[0.7137722 , 0.5682577 , 0.48995173, ..., 0.698532  , 0.41530716,\n",
              "         0.03724349],\n",
              "        [0.9573169 , 0.683974  , 0.6878983 , ..., 0.9240624 , 0.7371949 ,\n",
              "         0.65380275],\n",
              "        [0.3937236 , 0.27419508, 0.3144101 , ..., 0.21759593, 0.16180694,\n",
              "         0.17584848],\n",
              "        [0.6079097 , 0.01292431, 0.75487685, ..., 0.9095659 , 0.403386  ,\n",
              "         0.25664032],\n",
              "        [0.3800596 , 0.31613255, 0.3142258 , ..., 0.27977347, 0.58511436,\n",
              "         0.12036538]], dtype=float32)>,\n",
              " <tf.Tensor: shape=(5, 300), dtype=float32, numpy=\n",
              " array([[0.62466514, 0.59434736, 0.84485793, ..., 0.31635547, 0.4538108 ,\n",
              "         0.24049306],\n",
              "        [0.66818655, 0.7279763 , 0.66202915, ..., 0.8968564 , 0.8384441 ,\n",
              "         0.00178802],\n",
              "        [0.827266  , 0.9304174 , 0.7687652 , ..., 0.01306891, 0.3052523 ,\n",
              "         0.5744549 ],\n",
              "        [0.73021984, 0.5574758 , 0.13693106, ..., 0.09689617, 0.4381647 ,\n",
              "         0.54614186],\n",
              "        [0.8941617 , 0.9235357 , 0.16473365, ..., 0.05375147, 0.06220889,\n",
              "         0.48077452]], dtype=float32)>)"
            ]
          },
          "metadata": {},
          "execution_count": 39
        }
      ]
    },
    {
      "cell_type": "code",
      "source": [
        "#Multiply the two matrices using matrix multiplication\n",
        "tf.matmul(tensor_5,tf.transpose(tensor_6))"
      ],
      "metadata": {
        "colab": {
          "base_uri": "https://localhost:8080/"
        },
        "id": "kZVg7f-SBqkl",
        "outputId": "cd1dcfac-db12-4ae3-82bd-d2c536c82e45"
      },
      "execution_count": 41,
      "outputs": [
        {
          "output_type": "execute_result",
          "data": {
            "text/plain": [
              "<tf.Tensor: shape=(5, 5), dtype=float32, numpy=\n",
              "array([[62.66284 , 73.1556  , 70.633545, 66.7171  , 74.7276  ],\n",
              "       [59.8123  , 67.740906, 70.72894 , 67.078865, 74.2408  ],\n",
              "       [65.08165 , 72.40057 , 71.18701 , 70.55434 , 74.17134 ],\n",
              "       [70.70337 , 77.729866, 78.66063 , 72.79042 , 80.96927 ],\n",
              "       [65.22966 , 75.809616, 76.402725, 73.92375 , 80.60454 ]],\n",
              "      dtype=float32)>"
            ]
          },
          "metadata": {},
          "execution_count": 41
        }
      ]
    },
    {
      "cell_type": "code",
      "source": [
        "#Multiply the two tensors you created in 3 using dot product.\n",
        "tf.tensordot(tensor_5,tf.transpose(tensor_6),axes=1)"
      ],
      "metadata": {
        "colab": {
          "base_uri": "https://localhost:8080/"
        },
        "id": "-Ict2n-BCDDw",
        "outputId": "5e808285-824a-4f99-f46f-a40b66df63ae"
      },
      "execution_count": 44,
      "outputs": [
        {
          "output_type": "execute_result",
          "data": {
            "text/plain": [
              "<tf.Tensor: shape=(5, 5), dtype=float32, numpy=\n",
              "array([[62.66284 , 73.1556  , 70.633545, 66.7171  , 74.7276  ],\n",
              "       [59.8123  , 67.740906, 70.72894 , 67.078865, 74.2408  ],\n",
              "       [65.08165 , 72.40057 , 71.18701 , 70.55434 , 74.17134 ],\n",
              "       [70.70337 , 77.729866, 78.66063 , 72.79042 , 80.96927 ],\n",
              "       [65.22966 , 75.809616, 76.402725, 73.92375 , 80.60454 ]],\n",
              "      dtype=float32)>"
            ]
          },
          "metadata": {},
          "execution_count": 44
        }
      ]
    },
    {
      "cell_type": "code",
      "source": [
        "#create a tensor with random values between 0 and 1 with shape [224,224,3]\n",
        "tensor_6= tf.random.uniform(minval=0,maxval=1,shape=(224,224,3))\n",
        "tensor_6\n"
      ],
      "metadata": {
        "colab": {
          "base_uri": "https://localhost:8080/"
        },
        "id": "TTDjEJDqCePw",
        "outputId": "2a7deca5-40eb-459d-9084-3c6548d4f2b9"
      },
      "execution_count": 47,
      "outputs": [
        {
          "output_type": "execute_result",
          "data": {
            "text/plain": [
              "<tf.Tensor: shape=(224, 224, 3), dtype=float32, numpy=\n",
              "array([[[0.3640343 , 0.5658885 , 0.8847954 ],\n",
              "        [0.3796494 , 0.8182188 , 0.12649667],\n",
              "        [0.24847889, 0.75822663, 0.50102377],\n",
              "        ...,\n",
              "        [0.7072307 , 0.8609998 , 0.0082736 ],\n",
              "        [0.45533943, 0.21503198, 0.88382614],\n",
              "        [0.59046066, 0.8967197 , 0.54907155]],\n",
              "\n",
              "       [[0.28570628, 0.30150926, 0.29127872],\n",
              "        [0.1716721 , 0.7223995 , 0.31483877],\n",
              "        [0.30985773, 0.29281986, 0.45481265],\n",
              "        ...,\n",
              "        [0.56355953, 0.94686174, 0.17731333],\n",
              "        [0.38282013, 0.58050656, 0.30144548],\n",
              "        [0.30898285, 0.78468776, 0.649189  ]],\n",
              "\n",
              "       [[0.93584573, 0.9085084 , 0.52413833],\n",
              "        [0.52358127, 0.9590806 , 0.00311756],\n",
              "        [0.9004077 , 0.9762747 , 0.54096985],\n",
              "        ...,\n",
              "        [0.00579548, 0.39201164, 0.42807555],\n",
              "        [0.5057306 , 0.66900396, 0.06851351],\n",
              "        [0.03052783, 0.23064387, 0.81697   ]],\n",
              "\n",
              "       ...,\n",
              "\n",
              "       [[0.36930883, 0.66202235, 0.682896  ],\n",
              "        [0.79595137, 0.55213726, 0.12701023],\n",
              "        [0.35857558, 0.15078318, 0.87675095],\n",
              "        ...,\n",
              "        [0.02960253, 0.9960574 , 0.91123486],\n",
              "        [0.19402134, 0.32670164, 0.3858236 ],\n",
              "        [0.96413755, 0.11368072, 0.83974254]],\n",
              "\n",
              "       [[0.44302523, 0.03099   , 0.8081771 ],\n",
              "        [0.9528341 , 0.6598059 , 0.16593826],\n",
              "        [0.3200301 , 0.96908545, 0.44860637],\n",
              "        ...,\n",
              "        [0.34833586, 0.52817833, 0.57422435],\n",
              "        [0.650807  , 0.43011832, 0.49155486],\n",
              "        [0.69808114, 0.17304039, 0.8875487 ]],\n",
              "\n",
              "       [[0.4310714 , 0.5746709 , 0.03436661],\n",
              "        [0.21698976, 0.16810858, 0.04071236],\n",
              "        [0.9827603 , 0.16664135, 0.482983  ],\n",
              "        ...,\n",
              "        [0.19035351, 0.3801906 , 0.53854334],\n",
              "        [0.00325501, 0.06879234, 0.0858959 ],\n",
              "        [0.7349858 , 0.09420168, 0.8945067 ]]], dtype=float32)>"
            ]
          },
          "metadata": {},
          "execution_count": 47
        }
      ]
    },
    {
      "cell_type": "code",
      "source": [
        "#Find the min and max values of the tensor you created along the first axis.\n",
        "tf.reduce_min(tensor_6).numpy()\n",
        "tf.reduce_max(tensor_6).numpy()"
      ],
      "metadata": {
        "colab": {
          "base_uri": "https://localhost:8080/"
        },
        "id": "fHcQYhlKE3aI",
        "outputId": "4f29f13d-6033-4589-812c-86fcbe3adb3f"
      },
      "execution_count": 50,
      "outputs": [
        {
          "output_type": "execute_result",
          "data": {
            "text/plain": [
              "0.9999951"
            ]
          },
          "metadata": {},
          "execution_count": 50
        }
      ]
    },
    {
      "cell_type": "code",
      "source": [
        "# Created a tensor with random values of shape [1, 224, 224, 3] then squeeze it to change the shape to [224, 224, 3]\n",
        "random_values= tf.random.uniform(shape=(1,224,224,3))"
      ],
      "metadata": {
        "id": "GNPZYQhmLSwh"
      },
      "execution_count": 51,
      "outputs": []
    },
    {
      "cell_type": "code",
      "source": [
        "random_values"
      ],
      "metadata": {
        "colab": {
          "base_uri": "https://localhost:8080/"
        },
        "id": "r-y1TYmpMlap",
        "outputId": "47d01aec-7871-4943-8913-1a18d9a23922"
      },
      "execution_count": 52,
      "outputs": [
        {
          "output_type": "execute_result",
          "data": {
            "text/plain": [
              "<tf.Tensor: shape=(1, 224, 224, 3), dtype=float32, numpy=\n",
              "array([[[[0.7619742 , 0.61023235, 0.81687105],\n",
              "         [0.15875173, 0.8664751 , 0.93234074],\n",
              "         [0.6357801 , 0.7666447 , 0.08947754],\n",
              "         ...,\n",
              "         [0.26273346, 0.4354875 , 0.34259617],\n",
              "         [0.04008472, 0.7298094 , 0.18792915],\n",
              "         [0.69863117, 0.21169984, 0.10472047]],\n",
              "\n",
              "        [[0.4056039 , 0.6504762 , 0.4091921 ],\n",
              "         [0.5984125 , 0.42653394, 0.3518765 ],\n",
              "         [0.20364308, 0.95550156, 0.01669371],\n",
              "         ...,\n",
              "         [0.8520869 , 0.31219673, 0.66480756],\n",
              "         [0.50947976, 0.2947439 , 0.46815467],\n",
              "         [0.5300673 , 0.01465213, 0.4862796 ]],\n",
              "\n",
              "        [[0.8138521 , 0.33862388, 0.8198477 ],\n",
              "         [0.60719573, 0.5124556 , 0.3173474 ],\n",
              "         [0.92415273, 0.67972064, 0.46531284],\n",
              "         ...,\n",
              "         [0.7390405 , 0.8885721 , 0.15659845],\n",
              "         [0.20935142, 0.15445876, 0.4203198 ],\n",
              "         [0.4690534 , 0.9983901 , 0.9568938 ]],\n",
              "\n",
              "        ...,\n",
              "\n",
              "        [[0.9898654 , 0.43131042, 0.08581769],\n",
              "         [0.72817516, 0.83685744, 0.0608356 ],\n",
              "         [0.59095085, 0.8430085 , 0.25660193],\n",
              "         ...,\n",
              "         [0.30065095, 0.5986018 , 0.27260447],\n",
              "         [0.618775  , 0.7316723 , 0.43628538],\n",
              "         [0.8101418 , 0.3195852 , 0.5779114 ]],\n",
              "\n",
              "        [[0.88082314, 0.08700132, 0.19558477],\n",
              "         [0.7114694 , 0.78547966, 0.12664509],\n",
              "         [0.2216425 , 0.79463613, 0.3772769 ],\n",
              "         ...,\n",
              "         [0.17149127, 0.8839587 , 0.96649635],\n",
              "         [0.3949151 , 0.40643764, 0.12454093],\n",
              "         [0.57594883, 0.89622796, 0.01443374]],\n",
              "\n",
              "        [[0.92333317, 0.26937997, 0.7891927 ],\n",
              "         [0.02651513, 0.40142322, 0.44800174],\n",
              "         [0.39444566, 0.40345132, 0.32113934],\n",
              "         ...,\n",
              "         [0.6584259 , 0.04162312, 0.8291564 ],\n",
              "         [0.56977534, 0.13780653, 0.82207334],\n",
              "         [0.9614271 , 0.5780369 , 0.14141726]]]], dtype=float32)>"
            ]
          },
          "metadata": {},
          "execution_count": 52
        }
      ]
    },
    {
      "cell_type": "code",
      "source": [
        "squeezed_random_values=tf.squeeze(random_values)\n",
        "squeezed_random_values"
      ],
      "metadata": {
        "colab": {
          "base_uri": "https://localhost:8080/"
        },
        "id": "OBwj7bOtMm9P",
        "outputId": "1e35af60-24a0-43c1-bcf8-bc878a53fe26"
      },
      "execution_count": 54,
      "outputs": [
        {
          "output_type": "execute_result",
          "data": {
            "text/plain": [
              "<tf.Tensor: shape=(224, 224, 3), dtype=float32, numpy=\n",
              "array([[[0.7619742 , 0.61023235, 0.81687105],\n",
              "        [0.15875173, 0.8664751 , 0.93234074],\n",
              "        [0.6357801 , 0.7666447 , 0.08947754],\n",
              "        ...,\n",
              "        [0.26273346, 0.4354875 , 0.34259617],\n",
              "        [0.04008472, 0.7298094 , 0.18792915],\n",
              "        [0.69863117, 0.21169984, 0.10472047]],\n",
              "\n",
              "       [[0.4056039 , 0.6504762 , 0.4091921 ],\n",
              "        [0.5984125 , 0.42653394, 0.3518765 ],\n",
              "        [0.20364308, 0.95550156, 0.01669371],\n",
              "        ...,\n",
              "        [0.8520869 , 0.31219673, 0.66480756],\n",
              "        [0.50947976, 0.2947439 , 0.46815467],\n",
              "        [0.5300673 , 0.01465213, 0.4862796 ]],\n",
              "\n",
              "       [[0.8138521 , 0.33862388, 0.8198477 ],\n",
              "        [0.60719573, 0.5124556 , 0.3173474 ],\n",
              "        [0.92415273, 0.67972064, 0.46531284],\n",
              "        ...,\n",
              "        [0.7390405 , 0.8885721 , 0.15659845],\n",
              "        [0.20935142, 0.15445876, 0.4203198 ],\n",
              "        [0.4690534 , 0.9983901 , 0.9568938 ]],\n",
              "\n",
              "       ...,\n",
              "\n",
              "       [[0.9898654 , 0.43131042, 0.08581769],\n",
              "        [0.72817516, 0.83685744, 0.0608356 ],\n",
              "        [0.59095085, 0.8430085 , 0.25660193],\n",
              "        ...,\n",
              "        [0.30065095, 0.5986018 , 0.27260447],\n",
              "        [0.618775  , 0.7316723 , 0.43628538],\n",
              "        [0.8101418 , 0.3195852 , 0.5779114 ]],\n",
              "\n",
              "       [[0.88082314, 0.08700132, 0.19558477],\n",
              "        [0.7114694 , 0.78547966, 0.12664509],\n",
              "        [0.2216425 , 0.79463613, 0.3772769 ],\n",
              "        ...,\n",
              "        [0.17149127, 0.8839587 , 0.96649635],\n",
              "        [0.3949151 , 0.40643764, 0.12454093],\n",
              "        [0.57594883, 0.89622796, 0.01443374]],\n",
              "\n",
              "       [[0.92333317, 0.26937997, 0.7891927 ],\n",
              "        [0.02651513, 0.40142322, 0.44800174],\n",
              "        [0.39444566, 0.40345132, 0.32113934],\n",
              "        ...,\n",
              "        [0.6584259 , 0.04162312, 0.8291564 ],\n",
              "        [0.56977534, 0.13780653, 0.82207334],\n",
              "        [0.9614271 , 0.5780369 , 0.14141726]]], dtype=float32)>"
            ]
          },
          "metadata": {},
          "execution_count": 54
        }
      ]
    },
    {
      "cell_type": "code",
      "source": [
        "#Create a tensor with shape [10] using your own choice of values, then find the index which has the maximum value.\n",
        "random_8= tf.random.uniform(minval=1,maxval=10,shape=[10])\n",
        "random_8"
      ],
      "metadata": {
        "colab": {
          "base_uri": "https://localhost:8080/"
        },
        "id": "3tJsjDriMvRR",
        "outputId": "2925a12b-f9e0-4821-8245-cbcb4dcd5322"
      },
      "execution_count": 68,
      "outputs": [
        {
          "output_type": "execute_result",
          "data": {
            "text/plain": [
              "<tf.Tensor: shape=(10,), dtype=float32, numpy=\n",
              "array([2.1214337, 1.3303323, 9.335588 , 7.6296825, 5.6383924, 7.117324 ,\n",
              "       1.9448704, 3.835213 , 1.0281514, 7.06701  ], dtype=float32)>"
            ]
          },
          "metadata": {},
          "execution_count": 68
        }
      ]
    },
    {
      "cell_type": "code",
      "source": [
        "random_8[tf.argmax(random_8)].numpy()"
      ],
      "metadata": {
        "colab": {
          "base_uri": "https://localhost:8080/"
        },
        "id": "PRQirK5EPfIG",
        "outputId": "c1abaae5-56bb-4c36-a78d-72db3464698b"
      },
      "execution_count": 69,
      "outputs": [
        {
          "output_type": "execute_result",
          "data": {
            "text/plain": [
              "9.335588"
            ]
          },
          "metadata": {},
          "execution_count": 69
        }
      ]
    },
    {
      "cell_type": "code",
      "source": [
        "tf.cast(random_8.numpy().tolist(),tf.int32)"
      ],
      "metadata": {
        "colab": {
          "base_uri": "https://localhost:8080/"
        },
        "id": "QanavZNwRLIJ",
        "outputId": "0e51ac6d-edb0-4adc-bc0d-9c057f3c85ad"
      },
      "execution_count": 70,
      "outputs": [
        {
          "output_type": "execute_result",
          "data": {
            "text/plain": [
              "<tf.Tensor: shape=(10,), dtype=int32, numpy=array([2, 1, 9, 7, 5, 7, 1, 3, 1, 7], dtype=int32)>"
            ]
          },
          "metadata": {},
          "execution_count": 70
        }
      ]
    },
    {
      "cell_type": "code",
      "source": [
        "\n",
        "one_hot_encoder= tf.one_hot(tf.cast(random_8.numpy().tolist(),tf.int32),depth=tf.size(random_8).numpy())\n",
        "one_hot_encoder"
      ],
      "metadata": {
        "colab": {
          "base_uri": "https://localhost:8080/"
        },
        "id": "5_mwOZbwNSnZ",
        "outputId": "bd96b435-a0db-4a62-ff73-08cc003a08c9"
      },
      "execution_count": 72,
      "outputs": [
        {
          "output_type": "execute_result",
          "data": {
            "text/plain": [
              "<tf.Tensor: shape=(10, 10), dtype=float32, numpy=\n",
              "array([[0., 0., 1., 0., 0., 0., 0., 0., 0., 0.],\n",
              "       [0., 1., 0., 0., 0., 0., 0., 0., 0., 0.],\n",
              "       [0., 0., 0., 0., 0., 0., 0., 0., 0., 1.],\n",
              "       [0., 0., 0., 0., 0., 0., 0., 1., 0., 0.],\n",
              "       [0., 0., 0., 0., 0., 1., 0., 0., 0., 0.],\n",
              "       [0., 0., 0., 0., 0., 0., 0., 1., 0., 0.],\n",
              "       [0., 1., 0., 0., 0., 0., 0., 0., 0., 0.],\n",
              "       [0., 0., 0., 1., 0., 0., 0., 0., 0., 0.],\n",
              "       [0., 1., 0., 0., 0., 0., 0., 0., 0., 0.],\n",
              "       [0., 0., 0., 0., 0., 0., 0., 1., 0., 0.]], dtype=float32)>"
            ]
          },
          "metadata": {},
          "execution_count": 72
        }
      ]
    },
    {
      "cell_type": "code",
      "source": [],
      "metadata": {
        "id": "CiAs8B7GP_Xl"
      },
      "execution_count": null,
      "outputs": []
    }
  ]
}